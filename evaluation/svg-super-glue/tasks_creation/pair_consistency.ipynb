{
 "cells": [
  {
   "cell_type": "code",
   "execution_count": 8,
   "metadata": {},
   "outputs": [],
   "source": [
    "import re\n",
    "from typing import List\n",
    "\n",
    "PATH_RE   = re.compile(r'<\\s*path\\b[^>]*?/?>', re.I | re.S)\n",
    "SVG_OPEN  = re.compile(r'<\\s*svg\\b[^>]*?>', re.I | re.S)\n",
    "SVG_CLOSE = re.compile(r'</\\s*svg\\s*>', re.I)\n",
    "\n",
    "def split_svg_by_paths(svg_text: str) -> List[str]:\n",
    "    open_tag  = SVG_OPEN.search(svg_text)\n",
    "    close_tag = SVG_CLOSE.search(svg_text)\n",
    "    if not (open_tag and close_tag):\n",
    "        raise ValueError(\"Not a complete <svg> document\")\n",
    "\n",
    "    paths = PATH_RE.findall(svg_text)\n",
    "\n",
    "    first_chunk = open_tag.group(0) + paths[0]           # attach header\n",
    "    last_chunk  = paths[-1] + svg_text[close_tag.start():]\n",
    "\n",
    "    return [first_chunk] + paths[1:-1] + [last_chunk]"
   ]
  },
  {
   "cell_type": "code",
   "execution_count": 9,
   "metadata": {},
   "outputs": [],
   "source": [
    "svg = \"\"\"\n",
    "<svg viewBox=\"0 0 256 256\"><path fill=\"none\" stroke=\"#000\" stroke-width=\"3.2\" d=\"M128 166V192H115V166z\"/><path fill=\"none\" stroke=\"#000\" stroke-width=\"3.2\" d=\"M154 230V243H77V90H128V115H154V128H166V230z\"/></svg>\n",
    "\"\"\"\n",
    "chunks = split_svg_by_paths(svg)"
   ]
  },
  {
   "cell_type": "code",
   "execution_count": 10,
   "metadata": {},
   "outputs": [
    {
     "data": {
      "text/plain": [
       "['<svg viewBox=\"0 0 256 256\"><path fill=\"none\" stroke=\"#000\" stroke-width=\"3.2\" d=\"M128 166V192H115V166z\"/>',\n",
       " '<path fill=\"none\" stroke=\"#000\" stroke-width=\"3.2\" d=\"M154 230V243H77V90H128V115H154V128H166V230z\"/></svg>\\n']"
      ]
     },
     "execution_count": 10,
     "metadata": {},
     "output_type": "execute_result"
    }
   ],
   "source": [
    "chunks"
   ]
  },
  {
   "cell_type": "code",
   "execution_count": null,
   "metadata": {},
   "outputs": [],
   "source": []
  }
 ],
 "metadata": {
  "kernelspec": {
   "display_name": "base",
   "language": "python",
   "name": "python3"
  },
  "language_info": {
   "codemirror_mode": {
    "name": "ipython",
    "version": 3
   },
   "file_extension": ".py",
   "mimetype": "text/x-python",
   "name": "python",
   "nbconvert_exporter": "python",
   "pygments_lexer": "ipython3",
   "version": "3.10.14"
  }
 },
 "nbformat": 4,
 "nbformat_minor": 2
}
