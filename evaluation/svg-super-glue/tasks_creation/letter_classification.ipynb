{
 "cells": [
  {
   "cell_type": "code",
   "execution_count": 1,
   "metadata": {},
   "outputs": [
    {
     "name": "stderr",
     "output_type": "stream",
     "text": [
      "/opt/conda/lib/python3.10/site-packages/tqdm/auto.py:21: TqdmWarning: IProgress not found. Please update jupyter and ipywidgets. See https://ipywidgets.readthedocs.io/en/stable/user_install.html\n",
      "  from .autonotebook import tqdm as notebook_tqdm\n",
      "Map (num_proc=16): 100%|██████████| 3000/3000 [01:25<00:00, 34.98 examples/s]\n",
      "Map (num_proc=16): 100%|██████████| 3000/3000 [01:26<00:00, 34.71 examples/s]\n"
     ]
    }
   ],
   "source": [
    "import datasets\n",
    "from optimization.optimization import optimize_svg_content as opt\n",
    "\n",
    "\n",
    "ds = datasets.load_dataset(\"starvector/svg-fonts-simple\")\n",
    "\n",
    "ds_letters = {}\n",
    "\n",
    "for item in range(ord('a'), ord('z')+1):\n",
    "    letter = chr(item)\n",
    "    ds_letters[letter] = ds['train'].filter(lambda x: x['Filename'].endswith(f'{letter}_lower'))\n",
    "    \n",
    "ds_letters_a = ds_letters['a']\n",
    "ds_letters_a = ds_letters_a.map(lambda x: {'len': len(x['Svg'])})\n",
    "\n",
    "ds_letters_b = ds_letters['b']\n",
    "ds_letters_b = ds_letters_b.map(lambda x: {'len': len(x['Svg'])})\n",
    "\n",
    "ds_letters_a = ds_letters_a.shuffle().take(3000).map(lambda x: {'svg_optimized': opt(x['Svg'], quiet=True)['optimized']}, num_proc=16)\n",
    "ds_letters_b = ds_letters_b.shuffle().take(3000).map(lambda x: {'svg_optimized': opt(x['Svg'], quiet=True)['optimized']}, num_proc=16)"
   ]
  },
  {
   "cell_type": "code",
   "execution_count": 59,
   "metadata": {},
   "outputs": [
    {
     "name": "stderr",
     "output_type": "stream",
     "text": [
      "Map: 100%|██████████| 2985/2985 [00:00<00:00, 13209.94 examples/s]\n",
      "Map: 100%|██████████| 2986/2986 [00:00<00:00, 11187.94 examples/s]\n"
     ]
    }
   ],
   "source": [
    "ds_letters_a = ds_letters_a.map(lambda x: {'letter': 'a'})\n",
    "ds_letters_b = ds_letters_b.map(lambda x: {'letter': 'b'})\n"
   ]
  },
  {
   "cell_type": "code",
   "execution_count": 60,
   "metadata": {},
   "outputs": [
    {
     "name": "stderr",
     "output_type": "stream",
     "text": [
      "Filter: 100%|██████████| 2985/2985 [00:00<00:00, 129013.62 examples/s]\n",
      "Filter: 100%|██████████| 2986/2986 [00:00<00:00, 95431.14 examples/s]\n"
     ]
    }
   ],
   "source": [
    "ds_letters_a = ds_letters_a.filter(lambda x: x['svg_optimized'] != None)\n",
    "ds_letters_b = ds_letters_b.filter(lambda x: x['svg_optimized'] != None)\n"
   ]
  },
  {
   "cell_type": "code",
   "execution_count": 61,
   "metadata": {},
   "outputs": [],
   "source": [
    "ds_letters_ab = datasets.concatenate_datasets([ds_letters_a, ds_letters_b])\n",
    "ds_letters_ab = ds_letters_ab.shuffle()\n",
    "\n",
    "ds_letters_ab = ds_letters_ab.select_columns(['Filename','svg_optimized', 'letter'])\n",
    "ds_letters_ab = ds_letters_ab.rename_column('Filename', 'id')"
   ]
  },
  {
   "cell_type": "code",
   "execution_count": 68,
   "metadata": {},
   "outputs": [],
   "source": [
    "import pandas as pd\n",
    "\n",
    "ds_letters_ab = datasets.Dataset.from_pandas(pd.DataFrame(ds_letters_ab).drop_duplicates(subset=['svg_optimized']))\n",
    "ds_letters_ab = ds_letters_ab.select_columns(['id', 'svg_optimized', 'letter'])"
   ]
  },
  {
   "cell_type": "code",
   "execution_count": 72,
   "metadata": {},
   "outputs": [
    {
     "name": "stderr",
     "output_type": "stream",
     "text": [
      "Map: 100%|██████████| 5946/5946 [00:00<00:00, 27561.17 examples/s]\n",
      "Casting the dataset: 100%|██████████| 5946/5946 [00:00<00:00, 2267418.09 examples/s]"
     ]
    },
    {
     "name": "stdout",
     "output_type": "stream",
     "text": [
      "DatasetDict({\n",
      "    train: Dataset({\n",
      "        features: ['id', 'svg_optimized', 'letter'],\n",
      "        num_rows: 3000\n",
      "    })\n",
      "    val: Dataset({\n",
      "        features: ['id', 'svg_optimized', 'letter'],\n",
      "        num_rows: 946\n",
      "    })\n",
      "    test: Dataset({\n",
      "        features: ['id', 'svg_optimized', 'letter'],\n",
      "        num_rows: 2000\n",
      "    })\n",
      "})\n"
     ]
    },
    {
     "name": "stderr",
     "output_type": "stream",
     "text": [
      "\n"
     ]
    }
   ],
   "source": [
    "from datasets import ClassLabel\n",
    "\n",
    "ds_small = ds_letters_ab\n",
    "\n",
    "# 1) собираем уникальные названия классов\n",
    "label_names = sorted(set(ds_small['letter']))          # → ['food', 'love', 'phone', 'photography', 'sun']\n",
    "\n",
    "# 2) создаём объект ClassLabel\n",
    "class_feature = ClassLabel(num_classes=len(label_names), names=label_names)\n",
    "\n",
    "# 3) кастуем колонку\n",
    "#    map() переводит строку → id, потом cast_column меняет тип\n",
    "name2id = {n:i for i, n in enumerate(label_names)}\n",
    "ds_small = ds_small.map(lambda ex: {'letter': name2id[ex['letter']]})\n",
    "ds_small = ds_small.cast_column('letter', class_feature)\n",
    "\n",
    "# 4) теперь работает stratify_by_column!\n",
    "ds_small_train, ds_small_test = ds_small.train_test_split(\n",
    "    test_size=2000,\n",
    "    stratify_by_column='letter',\n",
    "    seed=42                            # 固定ируем порядок — reproducible\n",
    ").values()\n",
    "\n",
    "ds_small_train, ds_small_val = ds_small_train.train_test_split(\n",
    "    train_size=3000,\n",
    "    stratify_by_column='letter',\n",
    "    seed=42\n",
    ").values()\n",
    "\n",
    "ds_dict = datasets.DatasetDict({\n",
    "    'train': ds_small_train,\n",
    "    'val'  : ds_small_val,\n",
    "    'test' : ds_small_test\n",
    "})\n",
    "\n",
    "print(ds_dict)"
   ]
  },
  {
   "cell_type": "code",
   "execution_count": 73,
   "metadata": {},
   "outputs": [
    {
     "name": "stderr",
     "output_type": "stream",
     "text": [
      "Creating parquet from Arrow format: 100%|██████████| 3/3 [00:00<00:00, 43.47ba/s]\n",
      "Uploading the dataset shards: 100%|██████████| 1/1 [00:01<00:00,  1.31s/it]\n",
      "Creating parquet from Arrow format: 100%|██████████| 1/1 [00:00<00:00, 39.05ba/s]\n",
      "Uploading the dataset shards: 100%|██████████| 1/1 [00:01<00:00,  1.28s/it]\n",
      "Creating parquet from Arrow format: 100%|██████████| 2/2 [00:00<00:00, 38.88ba/s]\n",
      "Uploading the dataset shards: 100%|██████████| 1/1 [00:01<00:00,  1.53s/it]\n"
     ]
    },
    {
     "data": {
      "text/plain": [
       "CommitInfo(commit_url='https://huggingface.co/datasets/VectorGraphics/svg-super-glue/commit/ff051bd408f5f65bb5564323f295b3d72192b4ed', commit_message='Upload dataset', commit_description='', oid='ff051bd408f5f65bb5564323f295b3d72192b4ed', pr_url=None, repo_url=RepoUrl('https://huggingface.co/datasets/VectorGraphics/svg-super-glue', endpoint='https://huggingface.co', repo_type='dataset', repo_id='VectorGraphics/svg-super-glue'), pr_revision=None, pr_num=None)"
      ]
     },
     "execution_count": 73,
     "metadata": {},
     "output_type": "execute_result"
    }
   ],
   "source": [
    "ds_dict.push_to_hub('VectorGraphics/svg-super-glue', config_name='ab-test')"
   ]
  },
  {
   "cell_type": "code",
   "execution_count": null,
   "metadata": {},
   "outputs": [],
   "source": []
  }
 ],
 "metadata": {
  "kernelspec": {
   "display_name": "base",
   "language": "python",
   "name": "python3"
  },
  "language_info": {
   "codemirror_mode": {
    "name": "ipython",
    "version": 3
   },
   "file_extension": ".py",
   "mimetype": "text/x-python",
   "name": "python",
   "nbconvert_exporter": "python",
   "pygments_lexer": "ipython3",
   "version": "3.10.14"
  }
 },
 "nbformat": 4,
 "nbformat_minor": 2
}
