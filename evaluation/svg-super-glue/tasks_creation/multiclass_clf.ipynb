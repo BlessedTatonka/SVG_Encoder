{
 "cells": [
  {
   "cell_type": "code",
   "execution_count": 2,
   "metadata": {},
   "outputs": [
    {
     "name": "stderr",
     "output_type": "stream",
     "text": [
      "Downloading data: 100%|██████████| 37/37 [07:57<00:00, 12.91s/files]\n",
      "Generating creativecommons split: 3645444 examples [01:29, 40659.45 examples/s]\n",
      "Generating publicdomain split: 10366 examples [00:00, 37729.43 examples/s]\n"
     ]
    }
   ],
   "source": [
    "import datasets\n",
    "\n",
    "ds = datasets.load_dataset('nyuuzyou/svgfind', split='creativecommons')"
   ]
  },
  {
   "cell_type": "code",
   "execution_count": 9,
   "metadata": {},
   "outputs": [
    {
     "name": "stdout",
     "output_type": "stream",
     "text": [
      "tags\n",
      "security         1417\n",
      "data             1400\n",
      "online           1364\n",
      "time             1198\n",
      "storage          1148\n",
      "phone            1068\n",
      "computer         1043\n",
      "love             1028\n",
      "Arrow            1024\n",
      "business         1019\n",
      "email             934\n",
      "superhero         902\n",
      "music             851\n",
      "internet          822\n",
      "communication     764\n",
      "construction      729\n",
      "software          718\n",
      "digital           707\n",
      "photography       703\n",
      "travel            702\n",
      "writing           701\n",
      "health            694\n",
      "food              675\n",
      "chat              667\n",
      "paper             654\n",
      "messaging         652\n",
      "Camera            646\n",
      "space             632\n",
      "astronomy         597\n",
      "shopping          590\n",
      "design            586\n",
      "social media      581\n",
      "DC                578\n",
      "money             571\n",
      "audio             530\n",
      "light             527\n",
      "sun               510\n",
      "sweet             499\n",
      "clothing          490\n",
      "text              487\n",
      "art               475\n",
      "home              471\n",
      "House             464\n",
      "Doctor            458\n",
      "safe              441\n",
      "photo             437\n",
      "happy             435\n",
      "Home              434\n",
      "Location          431\n",
      "currency          428\n",
      "Name: count, dtype: int64\n"
     ]
    }
   ],
   "source": [
    "import pandas as pd\n",
    "\n",
    "def get_tag_stats(data, tag_col=\"tags\", top_n=10):\n",
    "    \"\"\"\n",
    "    data     : list[dict] | pd.DataFrame — ваш набор с колонкой tag_col\n",
    "    tag_col  : str        — имя колонки, где лежит список тегов\n",
    "    top_n    : int        — сколько самых популярных тегов вернуть\n",
    "    \n",
    "    Returns: dict with basic stats + pd.Series of top tags\n",
    "    \"\"\"\n",
    "    # 1) Ensure we have a DataFrame\n",
    "    df = pd.DataFrame(data) if not isinstance(data, pd.DataFrame) else data\n",
    "    \n",
    "    # 2) Explode tags so each tag is its own row\n",
    "    exploded = df[tag_col].explode()\n",
    "    \n",
    "    # 3) Frequency for every tag\n",
    "    tag_freq = exploded.value_counts()\n",
    "    \n",
    "    # 4) Per-row tag counts\n",
    "    per_row = df[tag_col].apply(len)\n",
    "    \n",
    "    # 5) Assemble stats\n",
    "    stats = {\n",
    "        \"rows\"               : len(df),\n",
    "        \"unique_tags\"        : tag_freq.size,\n",
    "        \"mean_tags_per_row\"  : per_row.mean(),\n",
    "        \"median_tags_per_row\": per_row.median(),\n",
    "        \"max_tags_per_row\"   : per_row.max(),\n",
    "        \"top_tags\"           : tag_freq.head(top_n)\n",
    "    }\n",
    "    return stats\n",
    "\n",
    "# --- Example usage ---\n",
    "stats = get_tag_stats(ds.shuffle().take(100000), tag_col=\"tags\", top_n=50)\n",
    "print(stats[\"top_tags\"])"
   ]
  },
  {
   "cell_type": "code",
   "execution_count": 28,
   "metadata": {},
   "outputs": [
    {
     "name": "stderr",
     "output_type": "stream",
     "text": [
      "Filter (num_proc=4): 100%|██████████| 3645444/3645444 [00:15<00:00, 242245.49 examples/s]\n",
      "Filter (num_proc=4): 100%|██████████| 3645444/3645444 [00:15<00:00, 242152.91 examples/s]\n",
      "Filter (num_proc=4): 100%|██████████| 3645444/3645444 [00:15<00:00, 240371.53 examples/s]\n",
      "Filter (num_proc=4): 100%|██████████| 3645444/3645444 [00:15<00:00, 239062.08 examples/s]\n",
      "Filter (num_proc=4): 100%|██████████| 3645444/3645444 [00:15<00:00, 238944.13 examples/s]\n"
     ]
    }
   ],
   "source": [
    "from functools import partial\n",
    "# --- настройки ---------------------------------------------------------\n",
    "chosen = {'phone', 'love', 'food', 'sun', 'photography'}   # set → O(1) lookup\n",
    "\n",
    "def has_only_one(example, focus, pool):\n",
    "    \"\"\"\n",
    "    True  → в example['tags'] ровно ОДИН тег из pool, и это focus  \n",
    "    False → либо focus нет, либо найден ещё один «чужой» тег из pool\n",
    "    \"\"\"\n",
    "    hits = 0\n",
    "    for tag in example[\"tags\"]:\n",
    "        if tag in pool:\n",
    "            hits += 1\n",
    "            if hits > 1:\n",
    "                return False\n",
    "    return hits == 1 and focus in example[\"tags\"]\n",
    "\n",
    "# --- фильтруем без перекрытий ------------------------------------------\n",
    "datasets_for_class = {\n",
    "    cls: ds.filter(partial(has_only_one, focus=cls, pool=chosen), num_proc=4) for cls in chosen\n",
    "}\n"
   ]
  },
  {
   "cell_type": "code",
   "execution_count": 33,
   "metadata": {},
   "outputs": [
    {
     "name": "stderr",
     "output_type": "stream",
     "text": [
      "Map: 100%|██████████| 26358/26358 [00:03<00:00, 7799.08 examples/s] \n",
      "Map: 100%|██████████| 23438/23438 [00:03<00:00, 7306.89 examples/s] \n",
      "Map: 100%|██████████| 16551/16551 [00:02<00:00, 7258.31 examples/s] \n",
      "Map: 100%|██████████| 19191/19191 [00:02<00:00, 8395.10 examples/s] \n",
      "Map: 100%|██████████| 21462/21462 [00:02<00:00, 8297.99 examples/s] \n"
     ]
    }
   ],
   "source": [
    "for one_class in datasets_for_class:\n",
    "    datasets_for_class[one_class] = datasets_for_class[one_class].map(lambda x: {'class': one_class})"
   ]
  },
  {
   "cell_type": "code",
   "execution_count": 39,
   "metadata": {},
   "outputs": [
    {
     "data": {
      "text/plain": [
       "Dataset({\n",
       "    features: ['id', 'title', 'data_pack', 'tags', 'license', 'license_owner', 'download_url', 'svg_content', 'class'],\n",
       "    num_rows: 21462\n",
       "})"
      ]
     },
     "execution_count": 39,
     "metadata": {},
     "output_type": "execute_result"
    }
   ],
   "source": [
    "datasets_for_class[one_class]"
   ]
  },
  {
   "cell_type": "code",
   "execution_count": 38,
   "metadata": {},
   "outputs": [],
   "source": [
    "import pandas as pd\n",
    "\n",
    "ds_chosen = datasets.concatenate_datasets(list(datasets_for_class.values()))\n",
    "df_classes = pd.DataFrame(ds_chosen)"
   ]
  },
  {
   "cell_type": "code",
   "execution_count": 61,
   "metadata": {},
   "outputs": [
    {
     "data": {
      "text/html": [
       "<div>\n",
       "<style scoped>\n",
       "    .dataframe tbody tr th:only-of-type {\n",
       "        vertical-align: middle;\n",
       "    }\n",
       "\n",
       "    .dataframe tbody tr th {\n",
       "        vertical-align: top;\n",
       "    }\n",
       "\n",
       "    .dataframe thead th {\n",
       "        text-align: right;\n",
       "    }\n",
       "</style>\n",
       "<table border=\"1\" class=\"dataframe\">\n",
       "  <thead>\n",
       "    <tr style=\"text-align: right;\">\n",
       "      <th></th>\n",
       "      <th>svg_content</th>\n",
       "      <th>class</th>\n",
       "    </tr>\n",
       "  </thead>\n",
       "  <tbody>\n",
       "    <tr>\n",
       "      <th>44829</th>\n",
       "      <td>&lt;svg fill=\"#000\" width=\"800\" height=\"800\" view...</td>\n",
       "      <td>food</td>\n",
       "    </tr>\n",
       "    <tr>\n",
       "      <th>87792</th>\n",
       "      <td>&lt;svg fill=\"#000\" width=\"800\" height=\"800\" view...</td>\n",
       "      <td>phone</td>\n",
       "    </tr>\n",
       "    <tr>\n",
       "      <th>64049</th>\n",
       "      <td>&lt;svg fill=\"#000\" width=\"800\" height=\"800\" view...</td>\n",
       "      <td>sun</td>\n",
       "    </tr>\n",
       "    <tr>\n",
       "      <th>21560</th>\n",
       "      <td>&lt;svg fill=\"#000\" width=\"800\" height=\"800\" view...</td>\n",
       "      <td>love</td>\n",
       "    </tr>\n",
       "    <tr>\n",
       "      <th>50986</th>\n",
       "      <td>&lt;svg fill=\"#000\" width=\"800\" height=\"800\" view...</td>\n",
       "      <td>sun</td>\n",
       "    </tr>\n",
       "  </tbody>\n",
       "</table>\n",
       "</div>"
      ],
      "text/plain": [
       "                                             svg_content  class\n",
       "44829  <svg fill=\"#000\" width=\"800\" height=\"800\" view...   food\n",
       "87792  <svg fill=\"#000\" width=\"800\" height=\"800\" view...  phone\n",
       "64049  <svg fill=\"#000\" width=\"800\" height=\"800\" view...    sun\n",
       "21560  <svg fill=\"#000\" width=\"800\" height=\"800\" view...   love\n",
       "50986  <svg fill=\"#000\" width=\"800\" height=\"800\" view...    sun"
      ]
     },
     "execution_count": 61,
     "metadata": {},
     "output_type": "execute_result"
    }
   ],
   "source": [
    "df_classes_small  = df_classes[['svg_content', 'class']].sample(5000)\n",
    "df_classes_small.head()"
   ]
  },
  {
   "cell_type": "code",
   "execution_count": 62,
   "metadata": {},
   "outputs": [],
   "source": [
    "ds_small = datasets.Dataset.from_pandas(df_classes_small).rename_column('__index_level_0__', 'id').select_columns(['id', 'svg_content', 'class'])"
   ]
  },
  {
   "cell_type": "code",
   "execution_count": 76,
   "metadata": {},
   "outputs": [
    {
     "name": "stderr",
     "output_type": "stream",
     "text": [
      "Map: 100%|██████████| 5000/5000 [00:00<00:00, 21715.04 examples/s]\n",
      "Casting the dataset: 100%|██████████| 5000/5000 [00:00<00:00, 308767.96 examples/s]"
     ]
    },
    {
     "name": "stdout",
     "output_type": "stream",
     "text": [
      "DatasetDict({\n",
      "    train: Dataset({\n",
      "        features: ['id', 'svg_content', 'class'],\n",
      "        num_rows: 4000\n",
      "    })\n",
      "    val: Dataset({\n",
      "        features: ['id', 'svg_content', 'class'],\n",
      "        num_rows: 500\n",
      "    })\n",
      "    test: Dataset({\n",
      "        features: ['id', 'svg_content', 'class'],\n",
      "        num_rows: 500\n",
      "    })\n",
      "})\n"
     ]
    },
    {
     "name": "stderr",
     "output_type": "stream",
     "text": [
      "\n"
     ]
    }
   ],
   "source": [
    "from datasets import ClassLabel\n",
    "\n",
    "# 1) собираем уникальные названия классов\n",
    "label_names = sorted(set(ds_small['class']))          # → ['food', 'love', 'phone', 'photography', 'sun']\n",
    "\n",
    "# 2) создаём объект ClassLabel\n",
    "class_feature = ClassLabel(num_classes=len(label_names), names=label_names)\n",
    "\n",
    "# 3) кастуем колонку\n",
    "#    map() переводит строку → id, потом cast_column меняет тип\n",
    "name2id = {n:i for i, n in enumerate(label_names)}\n",
    "ds_small = ds_small.map(lambda ex: {'class': name2id[ex['class']]})\n",
    "ds_small = ds_small.cast_column('class', class_feature)\n",
    "\n",
    "# 4) теперь работает stratify_by_column!\n",
    "ds_small_train, ds_small_test = ds_small.train_test_split(\n",
    "    test_size=500,\n",
    "    stratify_by_column='class',\n",
    "    seed=42                            # 固定ируем порядок — reproducible\n",
    ").values()\n",
    "\n",
    "ds_small_train, ds_small_val = ds_small_train.train_test_split(\n",
    "    test_size=500,\n",
    "    stratify_by_column='class',\n",
    "    seed=42\n",
    ").values()\n",
    "\n",
    "ds_dict = datasets.DatasetDict({\n",
    "    'train': ds_small_train,\n",
    "    'val'  : ds_small_val,\n",
    "    'test' : ds_small_test\n",
    "})\n",
    "\n",
    "print(ds_dict)"
   ]
  },
  {
   "cell_type": "code",
   "execution_count": 82,
   "metadata": {},
   "outputs": [
    {
     "name": "stderr",
     "output_type": "stream",
     "text": [
      "Creating parquet from Arrow format: 100%|██████████| 4/4 [00:00<00:00, 25.97ba/s]\n",
      "Uploading the dataset shards: 100%|██████████| 1/1 [00:02<00:00,  2.74s/it]\n",
      "Creating parquet from Arrow format: 100%|██████████| 1/1 [00:00<00:00, 45.38ba/s]\n",
      "Uploading the dataset shards: 100%|██████████| 1/1 [00:01<00:00,  1.44s/it]\n",
      "Creating parquet from Arrow format: 100%|██████████| 1/1 [00:00<00:00, 31.43ba/s]\n",
      "Uploading the dataset shards: 100%|██████████| 1/1 [00:01<00:00,  1.45s/it]\n"
     ]
    },
    {
     "data": {
      "text/plain": [
       "CommitInfo(commit_url='https://huggingface.co/datasets/VectorGraphics/svg-super-glue/commit/2f14baa7c7dfba2e67e9fd06110dcede7acac23c', commit_message='Upload dataset', commit_description='', oid='2f14baa7c7dfba2e67e9fd06110dcede7acac23c', pr_url=None, repo_url=RepoUrl('https://huggingface.co/datasets/VectorGraphics/svg-super-glue', endpoint='https://huggingface.co', repo_type='dataset', repo_id='VectorGraphics/svg-super-glue'), pr_revision=None, pr_num=None)"
      ]
     },
     "execution_count": 82,
     "metadata": {},
     "output_type": "execute_result"
    }
   ],
   "source": [
    "ds_dict.push_to_hub('VectorGraphics/svg-super-glue', config_name='multi-class-classification')"
   ]
  },
  {
   "cell_type": "code",
   "execution_count": null,
   "metadata": {},
   "outputs": [],
   "source": [
    "ds_dict"
   ]
  }
 ],
 "metadata": {
  "kernelspec": {
   "display_name": "base",
   "language": "python",
   "name": "python3"
  },
  "language_info": {
   "codemirror_mode": {
    "name": "ipython",
    "version": 3
   },
   "file_extension": ".py",
   "mimetype": "text/x-python",
   "name": "python",
   "nbconvert_exporter": "python",
   "pygments_lexer": "ipython3",
   "version": "3.10.14"
  }
 },
 "nbformat": 4,
 "nbformat_minor": 2
}
