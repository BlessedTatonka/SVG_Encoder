{
 "cells": [
  {
   "cell_type": "code",
   "execution_count": 3,
   "metadata": {},
   "outputs": [],
   "source": [
    "!python3 scripts/convert_to_hf.py --config training/configs/base/conversion/stage_1.yaml --checkpoint model_weights/torch/stage-1.pt --tokenizer VectorGraphics/svg_tokenizer --output model_weights/safetensors/stage_1 --save-tokenizer"
   ]
  },
  {
   "cell_type": "code",
   "execution_count": 4,
   "metadata": {},
   "outputs": [],
   "source": [
    "!python3 scripts/convert_to_hf.py --config training/configs/base/conversion/stage_2-3.yaml --checkpoint model_weights/torch/stage-2.pt --tokenizer VectorGraphics/svg_tokenizer --output model_weights/safetensors/stage_2 --save-tokenizer"
   ]
  },
  {
   "cell_type": "code",
   "execution_count": null,
   "metadata": {},
   "outputs": [
    {
     "name": "stderr",
     "output_type": "stream",
     "text": [
      "model.safetensors:  76%|███████▌  | 453M/599M [01:57<00:30, 4.86MB/s]   "
     ]
    }
   ],
   "source": [
    "from transformers import AutoModelForMaskedLM, AutoTokenizer\n",
    "\n",
    "model = AutoModelForMaskedLM.from_pretrained(\"model_weights/safetensors/stage_1\")\n",
    "tokenizer = AutoTokenizer.from_pretrained(\"model_weights/safetensors/stage_1\")\n",
    "\n",
    "model.push_to_hub(\"VectorGraphics/svg-encoder-base\", revision=\"stage-1\", private=True)"
   ]
  },
  {
   "cell_type": "code",
   "execution_count": null,
   "metadata": {},
   "outputs": [],
   "source": [
    "from transformers import AutoModelForMaskedLM, AutoTokenizer\n",
    "\n",
    "model = AutoModelForMaskedLM.from_pretrained(\"model_weights/safetensors/stage_2\")\n",
    "tokenizer = AutoTokenizer.from_pretrained(\"model_weights/safetensors/stage_2\")\n",
    "\n",
    "model.push_to_hub(\"VectorGraphics/svg-encoder-base\", revision=\"stage-2\", private=True)"
   ]
  },
  {
   "cell_type": "code",
   "execution_count": null,
   "metadata": {},
   "outputs": [],
   "source": [
    "tokenizer.push_to_hub(\"VectorGraphics/svg-encoder-base\", private=True)"
   ]
  },
  {
   "cell_type": "code",
   "execution_count": null,
   "metadata": {},
   "outputs": [],
   "source": []
  }
 ],
 "metadata": {
  "kernelspec": {
   "display_name": "base",
   "language": "python",
   "name": "python3"
  },
  "language_info": {
   "codemirror_mode": {
    "name": "ipython",
    "version": 3
   },
   "file_extension": ".py",
   "mimetype": "text/x-python",
   "name": "python",
   "nbconvert_exporter": "python",
   "pygments_lexer": "ipython3",
   "version": "3.12.2"
  }
 },
 "nbformat": 4,
 "nbformat_minor": 2
}
